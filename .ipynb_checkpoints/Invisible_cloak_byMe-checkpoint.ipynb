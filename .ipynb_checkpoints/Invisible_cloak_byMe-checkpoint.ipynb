{
 "cells": [
  {
   "cell_type": "markdown",
   "id": "071549c2",
   "metadata": {},
   "source": [
    "# /*******************************************************\n",
    "* Copyright         : 2022 Vaibhav Khandare\n",
    "* Description       : This file content is How to invisible the objects.\n",
    "*                    \n",
    "* Revision History  :\n",
    "* \t\tAuthor \t\t\n",
    "        Vaibhav Khandare \n",
    "* ------------------------------------------------------------------\n",
    "/******************************************************************/"
   ]
  },
  {
   "cell_type": "code",
   "execution_count": null,
   "id": "903e1781",
   "metadata": {},
   "outputs": [],
   "source": [
    "import cv2\n",
    "import numpy as np"
   ]
  },
  {
   "cell_type": "code",
   "execution_count": null,
   "id": "394aea12",
   "metadata": {},
   "outputs": [],
   "source": [
    "cap = cv2.VideoCapture(0)"
   ]
  },
  {
   "cell_type": "code",
   "execution_count": null,
   "id": "9973d30b",
   "metadata": {},
   "outputs": [],
   "source": [
    "ret, img = cap.read()"
   ]
  },
  {
   "cell_type": "code",
   "execution_count": null,
   "id": "0ef33602",
   "metadata": {},
   "outputs": [],
   "source": [
    "ret, background = cap.read()"
   ]
  },
  {
   "cell_type": "code",
   "execution_count": 16,
   "id": "027e1c63",
   "metadata": {},
   "outputs": [],
   "source": [
    "def show(photo):\n",
    "    cv2.imshow(\"showing img\", photo)\n",
    "    cv2.waitKey()\n",
    "    cv2.destroyAllWindows()        "
   ]
  },
  {
   "cell_type": "code",
   "execution_count": 2,
   "id": "d2870627",
   "metadata": {},
   "outputs": [],
   "source": [
    "lower = np.array([0, 0, 150])\n",
    "upper = np.array([255, 255, 255])"
   ]
  },
  {
   "cell_type": "code",
   "execution_count": null,
   "id": "364b2cda",
   "metadata": {},
   "outputs": [],
   "source": []
  },
  {
   "cell_type": "markdown",
   "id": "eb4080f3",
   "metadata": {},
   "source": [
    "# as we know in cv2 we have images in BGR so here to do invisible_cloak we need to convert it into hsv because, HSV or Hue Saturation Value is used to separate image luminance from color information so we must need to cvt"
   ]
  },
  {
   "cell_type": "code",
   "execution_count": 3,
   "id": "fdae3dd4",
   "metadata": {},
   "outputs": [
    {
     "ename": "NameError",
     "evalue": "name 'img' is not defined",
     "output_type": "error",
     "traceback": [
      "\u001b[1;31m---------------------------------------------------------------------------\u001b[0m",
      "\u001b[1;31mNameError\u001b[0m                                 Traceback (most recent call last)",
      "\u001b[1;32m<ipython-input-3-0a81a3dd384e>\u001b[0m in \u001b[0;36m<module>\u001b[1;34m\u001b[0m\n\u001b[1;32m----> 1\u001b[1;33m \u001b[0mimg_hsv\u001b[0m \u001b[1;33m=\u001b[0m \u001b[0mcv2\u001b[0m\u001b[1;33m.\u001b[0m\u001b[0mcvtColor\u001b[0m\u001b[1;33m(\u001b[0m\u001b[0mimg\u001b[0m\u001b[1;33m,\u001b[0m \u001b[0mcv2\u001b[0m\u001b[1;33m.\u001b[0m\u001b[0mCOLOR_BGR2HSV\u001b[0m\u001b[1;33m)\u001b[0m\u001b[1;33m\u001b[0m\u001b[1;33m\u001b[0m\u001b[0m\n\u001b[0m",
      "\u001b[1;31mNameError\u001b[0m: name 'img' is not defined"
     ]
    }
   ],
   "source": [
    "img_hsv = cv2.cvtColor(img, cv2.COLOR_BGR2HSV)"
   ]
  },
  {
   "cell_type": "markdown",
   "id": "2ab78c74",
   "metadata": {},
   "source": [
    "# inRange is used to detect the img color between min range to max"
   ]
  },
  {
   "cell_type": "code",
   "execution_count": null,
   "id": "f15f5222",
   "metadata": {},
   "outputs": [],
   "source": [
    "mask1 = cv2.inRange(img_hsv, lower, upper)"
   ]
  },
  {
   "cell_type": "code",
   "execution_count": null,
   "id": "c49d4603",
   "metadata": {},
   "outputs": [],
   "source": [
    "show(img)"
   ]
  },
  {
   "cell_type": "code",
   "execution_count": null,
   "id": "d64269d3",
   "metadata": {},
   "outputs": [],
   "source": [
    "show(mask1)"
   ]
  },
  {
   "cell_type": "markdown",
   "id": "eb30ca30",
   "metadata": {},
   "source": [
    "# morphology detect the edges and make it easy to understand the image by detecting a same colors nearer"
   ]
  },
  {
   "cell_type": "code",
   "execution_count": null,
   "id": "fdce8e7d",
   "metadata": {},
   "outputs": [],
   "source": [
    "mask2 = cv2.morphologyEx(mask1, cv2.MORPH_OPEN, np.ones((3, 3), np.uint8), iterations=2)\n",
    "mask2 = cv2.morphologyEx(mask1, cv2.MORPH_DILATE, np.ones((3, 3), np.uint8), iterations=3)"
   ]
  },
  {
   "cell_type": "code",
   "execution_count": null,
   "id": "62b7f261",
   "metadata": {},
   "outputs": [],
   "source": [
    "mask2 = cv2.bitwise_not(mask2)"
   ]
  },
  {
   "cell_type": "code",
   "execution_count": null,
   "id": "c0f7e554",
   "metadata": {},
   "outputs": [],
   "source": [
    "show(mask2)"
   ]
  },
  {
   "cell_type": "code",
   "execution_count": null,
   "id": "214f8b0b",
   "metadata": {},
   "outputs": [],
   "source": [
    "img_and = cv2.bitwise_and(img, img, mask= mask2)"
   ]
  },
  {
   "cell_type": "code",
   "execution_count": null,
   "id": "c113a49f",
   "metadata": {},
   "outputs": [],
   "source": [
    "background_and = cv2.bitwise_and(background, background, mask=mask1)"
   ]
  },
  {
   "cell_type": "code",
   "execution_count": null,
   "id": "b85fc231",
   "metadata": {},
   "outputs": [],
   "source": [
    "show(img_and)"
   ]
  },
  {
   "cell_type": "code",
   "execution_count": null,
   "id": "21617b53",
   "metadata": {},
   "outputs": [],
   "source": [
    "show(background_and)"
   ]
  },
  {
   "cell_type": "code",
   "execution_count": null,
   "id": "3d78e08a",
   "metadata": {},
   "outputs": [],
   "source": []
  },
  {
   "cell_type": "code",
   "execution_count": null,
   "id": "70cc9365",
   "metadata": {},
   "outputs": [],
   "source": [
    "final_output = cv2.addWeighted(img_and, 1, background_and, 1, 0)"
   ]
  },
  {
   "cell_type": "code",
   "execution_count": null,
   "id": "fd9c8d35",
   "metadata": {},
   "outputs": [],
   "source": [
    "show(final_output)"
   ]
  },
  {
   "cell_type": "code",
   "execution_count": 12,
   "id": "9053e073",
   "metadata": {},
   "outputs": [],
   "source": [
    "import cv2 \n",
    "import numpy as np"
   ]
  },
  {
   "cell_type": "code",
   "execution_count": 14,
   "id": "8f194919",
   "metadata": {},
   "outputs": [],
   "source": [
    "cap = cv2.VideoCapture(0)"
   ]
  },
  {
   "cell_type": "code",
   "execution_count": 15,
   "id": "399e5a2d",
   "metadata": {},
   "outputs": [],
   "source": [
    "ret, background = cap.read()"
   ]
  },
  {
   "cell_type": "code",
   "execution_count": 17,
   "id": "c373862d",
   "metadata": {},
   "outputs": [],
   "source": [
    "show(background)"
   ]
  },
  {
   "cell_type": "code",
   "execution_count": 19,
   "id": "c97f18ab",
   "metadata": {},
   "outputs": [],
   "source": [
    "while True:\n",
    "    \n",
    "    ret, img = cap.read()\n",
    "    \n",
    "    lower = np.array([0, 0, 150])\n",
    "    upper = np.array([255, 255, 255])\n",
    "    img_hsv = cv2.cvtColor(img, cv2.COLOR_BGR2HSV)\n",
    "    \n",
    "    mask1 = cv2.inRange(img_hsv, lower, upper)\n",
    "    mask2 = cv2.morphologyEx(mask1, cv2.MORPH_OPEN, np.ones((5,5), np.uint8), iterations=3)                             \n",
    "    mask2 = cv2.morphologyEx(mask1, cv2.MORPH_DILATE, np.ones((5,5), np.uint8), iterations=8)\n",
    "    mask1_not = cv2.bitwise_not(mask1)\n",
    "    img_and = cv2.bitwise_and(img, img, mask=mask1_not)\n",
    "    background_and = cv2.bitwise_and(background, background, mask=mask1)\n",
    "    final_output = cv2.addWeighted(img_and, 1, background_and, 1, 0)\n",
    "    cv2.imshow(\"Invisible-Cloak\", final_output)\n",
    "    cv2.imshow(\"photo\")\n",
    "    if cv2.waitKey(10)==13:\n",
    "        break\n",
    "cv2.destroyAllWindows()\n"
   ]
  },
  {
   "cell_type": "code",
   "execution_count": 20,
   "id": "e4baab81",
   "metadata": {},
   "outputs": [],
   "source": [
    "cap.release()                   "
   ]
  },
  {
   "cell_type": "code",
   "execution_count": null,
   "id": "69b7dc08",
   "metadata": {},
   "outputs": [],
   "source": []
  },
  {
   "cell_type": "code",
   "execution_count": 2,
   "id": "122589ef",
   "metadata": {},
   "outputs": [],
   "source": [
    "import pyttsx3\n",
    "import speech_recognition as sr"
   ]
  },
  {
   "cell_type": "code",
   "execution_count": 10,
   "id": "84407cfc",
   "metadata": {},
   "outputs": [],
   "source": [
    "engine = pyttsx3.init()\n",
    "def speak(audio):\n",
    "    engine.say(audio)\n",
    "    engine.runAndWait()"
   ]
  },
  {
   "cell_type": "code",
   "execution_count": 12,
   "id": "24b3f70f",
   "metadata": {},
   "outputs": [],
   "source": [
    "r = sr.Recognizer() "
   ]
  },
  {
   "cell_type": "code",
   "execution_count": 13,
   "id": "8b7635f0",
   "metadata": {},
   "outputs": [],
   "source": [
    "speak(\"hello Vaibhav\")\n",
    "voice = engine.getProperty('voices')"
   ]
  },
  {
   "cell_type": "code",
   "execution_count": null,
   "id": "7c7876a9",
   "metadata": {},
   "outputs": [],
   "source": []
  },
  {
   "cell_type": "code",
   "execution_count": null,
   "id": "310c98ef",
   "metadata": {},
   "outputs": [],
   "source": []
  },
  {
   "cell_type": "code",
   "execution_count": null,
   "id": "555dee89",
   "metadata": {},
   "outputs": [],
   "source": []
  }
 ],
 "metadata": {
  "kernelspec": {
   "display_name": "Python 3 (ipykernel)",
   "language": "python",
   "name": "python3"
  },
  "language_info": {
   "codemirror_mode": {
    "name": "ipython",
    "version": 3
   },
   "file_extension": ".py",
   "mimetype": "text/x-python",
   "name": "python",
   "nbconvert_exporter": "python",
   "pygments_lexer": "ipython3",
   "version": "3.10.12"
  }
 },
 "nbformat": 4,
 "nbformat_minor": 5
}
