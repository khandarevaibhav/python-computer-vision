{
 "cells": [
  {
   "cell_type": "markdown",
   "id": "5d80f938",
   "metadata": {},
   "source": [
    "# /*******************************************************\n",
    "* Copyright         : 2022 Vaibhav Khandare\n",
    "* Description       : This file content how to cut your image into peaces then join the peaces to create  full image.\n",
    "*                    \n",
    "* Revision History  :\n",
    "* \t\tAuthor \t\t\n",
    "        Vaibhav Khandare \n",
    "* ------------------------------------------------------------------\n",
    "/******************************************************************/"
   ]
  },
  {
   "cell_type": "code",
   "execution_count": 5,
   "id": "60514cd7",
   "metadata": {},
   "outputs": [],
   "source": [
    "import cv2"
   ]
  },
  {
   "cell_type": "code",
   "execution_count": 2,
   "id": "57e695f2",
   "metadata": {},
   "outputs": [
    {
     "name": "stderr",
     "output_type": "stream",
     "text": [
      "[ WARN:0] global ./modules/videoio/src/cap_gstreamer.cpp (1100) open OpenCV | GStreamer warning: Cannot query video position: status=0, value=-1, duration=-1\n"
     ]
    }
   ],
   "source": [
    "cap = cv2.VideoCapture(0)"
   ]
  },
  {
   "cell_type": "code",
   "execution_count": 3,
   "id": "674f21c2",
   "metadata": {},
   "outputs": [],
   "source": [
    "while True:\n",
    "    ret, photo = cap.read()\n",
    "    \n",
    "    cropu1 = photo[:160, :213]\n",
    "    cropu2 = photo[:160, 213:426]\n",
    "    cropu3 = photo[:160, 426: ]\n",
    "    \n",
    "    cropm1 = photo[160:320, :213]\n",
    "    cropm2 = photo[160:320, 213:426]\n",
    "    cropm3 = photo[160:320, 426:]\n",
    "    \n",
    "    cropl1 = photo[320:, :213]\n",
    "    cropl2 = photo[320:, 213:426]\n",
    "    cropl3 = photo[320:, 426:]\n",
    "    \n",
    "    cv2.imshow(\"cropu1\", cropu1)\n",
    "    cv2.imshow(\"cropu2\", cropu2)\n",
    "    cv2.imshow(\"cropu3\", cropu3)\n",
    "    \n",
    "    cv2.imshow(\"cropm1\", cropm1)\n",
    "    cv2.imshow(\"cropm2\", cropm2)\n",
    "    cv2.imshow(\"cropm3\", cropm3)\n",
    "    \n",
    "    cv2.imshow(\"cropl1\", cropl1)\n",
    "    cv2.imshow(\"cropl2\", cropl2)\n",
    "    cv2.imshow(\"cropl3\", cropl3)\n",
    "    \n",
    "    \n",
    "    cv2.imshow(\"Puzzle\", photo)\n",
    "    if cv2.waitKey(100)==13:\n",
    "        break\n",
    "cv2.destroyAllWindows()\n",
    "cap.release()"
   ]
  },
  {
   "cell_type": "code",
   "execution_count": 4,
   "id": "2a98037a",
   "metadata": {},
   "outputs": [],
   "source": [
    "cap.release()"
   ]
  },
  {
   "cell_type": "code",
   "execution_count": null,
   "id": "d529a8ca",
   "metadata": {},
   "outputs": [],
   "source": []
  }
 ],
 "metadata": {
  "kernelspec": {
   "display_name": "Python 3 (ipykernel)",
   "language": "python",
   "name": "python3"
  },
  "language_info": {
   "codemirror_mode": {
    "name": "ipython",
    "version": 3
   },
   "file_extension": ".py",
   "mimetype": "text/x-python",
   "name": "python",
   "nbconvert_exporter": "python",
   "pygments_lexer": "ipython3",
   "version": "3.10.12"
  }
 },
 "nbformat": 4,
 "nbformat_minor": 5
}
