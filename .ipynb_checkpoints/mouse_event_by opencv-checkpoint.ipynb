{
 "cells": [
  {
   "cell_type": "markdown",
   "id": "ab6b9ead",
   "metadata": {},
   "source": [
    "# /*******************************************************\n",
    "* Copyright         : 2023 Vaibhav Khandare\n",
    "* Description       : This file content mouseEvent in the python using cv2\n",
    "*                    \n",
    "* Revision History  :\n",
    "* \t\tAuthor \t\t\n",
    "        Vaibhav Khandare \n",
    "* ------------------------------------------------------------------\n",
    "/******************************************************************/"
   ]
  },
  {
   "cell_type": "code",
   "execution_count": 1,
   "id": "e424b39c",
   "metadata": {},
   "outputs": [],
   "source": [
    "import cv2 as cv"
   ]
  },
  {
   "cell_type": "code",
   "execution_count": 2,
   "id": "39e18e1c",
   "metadata": {},
   "outputs": [],
   "source": [
    "cap = cv.VideoCapture(0)"
   ]
  },
  {
   "cell_type": "code",
   "execution_count": 3,
   "id": "362ac4b2",
   "metadata": {},
   "outputs": [],
   "source": [
    "ret, photo = cap.read()"
   ]
  },
  {
   "cell_type": "code",
   "execution_count": 4,
   "id": "4cd15801",
   "metadata": {},
   "outputs": [
    {
     "data": {
      "text/plain": [
       "array([[[209, 194, 195],\n",
       "        [206, 192, 193],\n",
       "        [203, 191, 191],\n",
       "        ...,\n",
       "        [198, 203, 201],\n",
       "        [197, 203, 202],\n",
       "        [195, 202, 201]],\n",
       "\n",
       "       [[206, 194, 194],\n",
       "        [205, 193, 193],\n",
       "        [204, 192, 192],\n",
       "        ...,\n",
       "        [197, 202, 200],\n",
       "        [196, 203, 200],\n",
       "        [195, 203, 200]],\n",
       "\n",
       "       [[204, 194, 194],\n",
       "        [204, 194, 194],\n",
       "        [203, 193, 193],\n",
       "        ...,\n",
       "        [197, 203, 199],\n",
       "        [196, 202, 198],\n",
       "        [196, 201, 199]],\n",
       "\n",
       "       ...,\n",
       "\n",
       "       [[170, 165, 166],\n",
       "        [169, 164, 165],\n",
       "        [169, 164, 165],\n",
       "        ...,\n",
       "        [ 45,  47,  53],\n",
       "        [ 45,  48,  53],\n",
       "        [ 45,  48,  53]],\n",
       "\n",
       "       [[171, 162, 166],\n",
       "        [171, 162, 165],\n",
       "        [170, 163, 164],\n",
       "        ...,\n",
       "        [ 45,  48,  53],\n",
       "        [ 44,  47,  52],\n",
       "        [ 44,  47,  52]],\n",
       "\n",
       "       [[170, 161, 164],\n",
       "        [170, 161, 164],\n",
       "        [171, 162, 165],\n",
       "        ...,\n",
       "        [ 43,  47,  52],\n",
       "        [ 43,  47,  52],\n",
       "        [ 43,  47,  52]]], dtype=uint8)"
      ]
     },
     "execution_count": 4,
     "metadata": {},
     "output_type": "execute_result"
    }
   ],
   "source": [
    "photo"
   ]
  },
  {
   "cell_type": "code",
   "execution_count": 5,
   "id": "3a03edc1",
   "metadata": {},
   "outputs": [
    {
     "data": {
      "text/plain": [
       "True"
      ]
     },
     "execution_count": 5,
     "metadata": {},
     "output_type": "execute_result"
    }
   ],
   "source": [
    "ret"
   ]
  },
  {
   "cell_type": "code",
   "execution_count": 12,
   "id": "dff41769",
   "metadata": {},
   "outputs": [],
   "source": [
    "import math\n",
    "\n",
    "def mevent(event, x, y, l, w):\n",
    "    if event == cv.EVENT_LBUTTONDOWN:\n",
    "        global x1, y1\n",
    "        x1, y1 = x, y\n",
    "    elif event == cv.EVENT_LBUTTONUP:\n",
    "        global x2, y2 \n",
    "        x2, y2 = x, y\n",
    "        r = math.sqrt((x2-x1)*(x2-x1) + (y2-y1)*(y2-y1))\n",
    "        r = math.floor(r)\n",
    "        cv.circle(photo, (x1, y1), r,  [0,0,255], 3)\n",
    "        "
   ]
  },
  {
   "cell_type": "code",
   "execution_count": 13,
   "id": "4785f037",
   "metadata": {},
   "outputs": [],
   "source": [
    "cv.namedWindow(\"Arth\")\n",
    "cv.setMouseCallback(\"Arth\", mevent )\n",
    "while True:\n",
    "    cv.imshow(\"Arth\",photo)\n",
    "    if cv.waitKey(10)==13:\n",
    "        break\n",
    "cv.destroyAllWindows()"
   ]
  },
  {
   "cell_type": "code",
   "execution_count": 14,
   "id": "ce3e1454",
   "metadata": {},
   "outputs": [],
   "source": [
    "cap.release()"
   ]
  },
  {
   "cell_type": "code",
   "execution_count": null,
   "id": "8442856c",
   "metadata": {},
   "outputs": [],
   "source": []
  },
  {
   "cell_type": "code",
   "execution_count": null,
   "id": "9018132e",
   "metadata": {},
   "outputs": [],
   "source": []
  },
  {
   "cell_type": "code",
   "execution_count": null,
   "id": "4d5916f5",
   "metadata": {},
   "outputs": [],
   "source": []
  },
  {
   "cell_type": "code",
   "execution_count": null,
   "id": "1b94c9c9",
   "metadata": {},
   "outputs": [],
   "source": []
  },
  {
   "cell_type": "code",
   "execution_count": null,
   "id": "f95211db",
   "metadata": {},
   "outputs": [],
   "source": []
  },
  {
   "cell_type": "code",
   "execution_count": null,
   "id": "9bdfde4a",
   "metadata": {},
   "outputs": [],
   "source": []
  },
  {
   "cell_type": "code",
   "execution_count": null,
   "id": "21a436ef",
   "metadata": {},
   "outputs": [],
   "source": []
  },
  {
   "cell_type": "code",
   "execution_count": null,
   "id": "3cc71370",
   "metadata": {},
   "outputs": [],
   "source": []
  },
  {
   "cell_type": "code",
   "execution_count": null,
   "id": "1cbd7477",
   "metadata": {},
   "outputs": [],
   "source": []
  }
 ],
 "metadata": {
  "kernelspec": {
   "display_name": "Python 3 (ipykernel)",
   "language": "python",
   "name": "python3"
  },
  "language_info": {
   "codemirror_mode": {
    "name": "ipython",
    "version": 3
   },
   "file_extension": ".py",
   "mimetype": "text/x-python",
   "name": "python",
   "nbconvert_exporter": "python",
   "pygments_lexer": "ipython3",
   "version": "3.10.12"
  }
 },
 "nbformat": 4,
 "nbformat_minor": 5
}
