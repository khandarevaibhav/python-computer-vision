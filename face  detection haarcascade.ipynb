{
 "cells": [
  {
   "cell_type": "markdown",
   "id": "bc8c898f",
   "metadata": {},
   "source": [
    "# /*******************************************************\n",
    "* Copyright         : 2023 Vaibhav Khandare\n",
    "* Description       : This file content is How to detect face using pretrained model\n",
    "*                    \n",
    "* Revision History  :\n",
    "* \t\tAuthor \t\t\n",
    "        Vaibhav Khandare \n",
    "* ------------------------------------------------------------------\n",
    "/******************************************************************/"
   ]
  },
  {
   "cell_type": "code",
   "execution_count": null,
   "id": "e5f146d8",
   "metadata": {},
   "outputs": [],
   "source": [
    "import cv2"
   ]
  },
  {
   "cell_type": "code",
   "execution_count": 28,
   "id": "fa04c66c",
   "metadata": {},
   "outputs": [],
   "source": [
    "photo  =  cv2.imread('vimal.jpg')"
   ]
  },
  {
   "cell_type": "code",
   "execution_count": 13,
   "id": "db65e40a",
   "metadata": {},
   "outputs": [
    {
     "data": {
      "text/plain": [
       "(515, 514, 3)"
      ]
     },
     "execution_count": 13,
     "metadata": {},
     "output_type": "execute_result"
    }
   ],
   "source": [
    "photo.shape"
   ]
  },
  {
   "cell_type": "code",
   "execution_count": 34,
   "id": "f2203dba",
   "metadata": {},
   "outputs": [],
   "source": [
    "cv2.imshow('hi', photo)\n",
    "cv2.waitKey()\n",
    "cv2.destroyAllWindows()"
   ]
  },
  {
   "cell_type": "code",
   "execution_count": 18,
   "id": "9db4470b",
   "metadata": {},
   "outputs": [],
   "source": [
    "rphoto = cv2.rectangle(photo, (100,100),(320,380), [0,255,0], 5 )"
   ]
  },
  {
   "cell_type": "code",
   "execution_count": 25,
   "id": "490dbdfd",
   "metadata": {},
   "outputs": [],
   "source": [
    "cv2.imshow('hi', rphoto)\n",
    "cv2.waitKey()\n",
    "cv2.destroyAllWindows()"
   ]
  },
  {
   "cell_type": "code",
   "execution_count": 26,
   "id": "74306614",
   "metadata": {},
   "outputs": [],
   "source": [
    "model = cv2.CascadeClassifier('haarcascade_frontalface_default.xml')"
   ]
  },
  {
   "cell_type": "code",
   "execution_count": 42,
   "id": "ac16d628",
   "metadata": {},
   "outputs": [
    {
     "data": {
      "text/plain": [
       "<CascadeClassifier 0000026C905D8E30>"
      ]
     },
     "execution_count": 42,
     "metadata": {},
     "output_type": "execute_result"
    }
   ],
   "source": [
    "model"
   ]
  },
  {
   "cell_type": "code",
   "execution_count": 43,
   "id": "4b73c191",
   "metadata": {},
   "outputs": [],
   "source": [
    "cap = cv2.VideoCapture(0)"
   ]
  },
  {
   "cell_type": "code",
   "execution_count": 44,
   "id": "297875db",
   "metadata": {},
   "outputs": [],
   "source": []
  },
  {
   "cell_type": "code",
   "execution_count": 63,
   "id": "4a32f9ca",
   "metadata": {},
   "outputs": [],
   "source": [
    "while True:\n",
    "    ret, photo = cap.read()\n",
    "    faces =  model.detectMultiScale(photo)\n",
    "    if  len(faces) == 0:\n",
    "        pass\n",
    "    else:\n",
    "        x1=faces[0][0]\n",
    "        y1=faces[0][1]\n",
    "        x2=x1 + faces[0][2]\n",
    "        y2=y1 + faces[0][3]\n",
    "\n",
    "        aphoto = cv2.rectangle(photo, (x1,y1),(x2,y2), [0,255,0], 5 )\n",
    "        cv2.imshow('hi', aphoto)\n",
    "        if cv2.waitKey(200) == 13:\n",
    "            break\n",
    "        \n",
    "        \n",
    "cv2.destroyAllWindows()\n"
   ]
  },
  {
   "cell_type": "code",
   "execution_count": 64,
   "id": "6a312964",
   "metadata": {},
   "outputs": [
    {
     "data": {
      "text/plain": [
       "1"
      ]
     },
     "execution_count": 64,
     "metadata": {},
     "output_type": "execute_result"
    }
   ],
   "source": [
    "\n",
    "len(faces)"
   ]
  },
  {
   "cell_type": "code",
   "execution_count": 65,
   "id": "b30c267a",
   "metadata": {},
   "outputs": [],
   "source": [
    "cap.release()"
   ]
  },
  {
   "cell_type": "code",
   "execution_count": 60,
   "id": "2a12dbd2",
   "metadata": {},
   "outputs": [
    {
     "data": {
      "text/plain": [
       "()"
      ]
     },
     "execution_count": 60,
     "metadata": {},
     "output_type": "execute_result"
    }
   ],
   "source": [
    "faces"
   ]
  },
  {
   "cell_type": "code",
   "execution_count": 62,
   "id": "2df3dee8",
   "metadata": {},
   "outputs": [],
   "source": [
    "if len(faces)  == 0:\n",
    "    pass\n",
    "else:\n",
    "    print(\"crop it\")"
   ]
  },
  {
   "cell_type": "code",
   "execution_count": null,
   "id": "9fbc3ccf",
   "metadata": {},
   "outputs": [],
   "source": []
  },
  {
   "cell_type": "code",
   "execution_count": 47,
   "id": "10c2b3c1",
   "metadata": {},
   "outputs": [],
   "source": [
    "import numpy"
   ]
  },
  {
   "cell_type": "code",
   "execution_count": 56,
   "id": "de19b049",
   "metadata": {},
   "outputs": [],
   "source": [
    "a = numpy.array([])"
   ]
  },
  {
   "cell_type": "code",
   "execution_count": 57,
   "id": "1f7c2ae3",
   "metadata": {},
   "outputs": [
    {
     "data": {
      "text/plain": [
       "0"
      ]
     },
     "execution_count": 57,
     "metadata": {},
     "output_type": "execute_result"
    }
   ],
   "source": [
    "len(a)"
   ]
  },
  {
   "cell_type": "code",
   "execution_count": 55,
   "id": "5d22caba",
   "metadata": {},
   "outputs": [
    {
     "data": {
      "text/plain": [
       "array([[1, 2, 3, 4]])"
      ]
     },
     "execution_count": 55,
     "metadata": {},
     "output_type": "execute_result"
    }
   ],
   "source": [
    "a"
   ]
  },
  {
   "cell_type": "code",
   "execution_count": null,
   "id": "e7f082b8",
   "metadata": {},
   "outputs": [],
   "source": []
  }
 ],
 "metadata": {
  "kernelspec": {
   "display_name": "Python 3 (ipykernel)",
   "language": "python",
   "name": "python3"
  },
  "language_info": {
   "codemirror_mode": {
    "name": "ipython",
    "version": 3
   },
   "file_extension": ".py",
   "mimetype": "text/x-python",
   "name": "python",
   "nbconvert_exporter": "python",
   "pygments_lexer": "ipython3",
   "version": "3.10.12"
  }
 },
 "nbformat": 4,
 "nbformat_minor": 5
}
