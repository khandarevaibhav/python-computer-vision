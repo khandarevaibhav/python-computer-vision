{
 "cells": [
  {
   "cell_type": "markdown",
   "id": "97d1b247",
   "metadata": {},
   "source": [
    "# /*******************************************************\n",
    "* Copyright         : 2023 Vaibhav Khandare\n",
    "* Description       : This file content is How to blur your face using cv2\n",
    "*                    \n",
    "* Revision History  :\n",
    "* \t\tAuthor \t\t\n",
    "        Vaibhav Khandare \n",
    "* ------------------------------------------------------------------\n",
    "/******************************************************************/"
   ]
  },
  {
   "cell_type": "code",
   "execution_count": 2,
   "id": "924a370e",
   "metadata": {},
   "outputs": [],
   "source": [
    "import cv2"
   ]
  },
  {
   "cell_type": "code",
   "execution_count": 2,
   "id": "21782343",
   "metadata": {},
   "outputs": [],
   "source": [
    "cap = cv2.VideoCapture(0)"
   ]
  },
  {
   "cell_type": "code",
   "execution_count": 3,
   "id": "ff7e328c",
   "metadata": {},
   "outputs": [],
   "source": [
    "ret , photo = cap.read()"
   ]
  },
  {
   "cell_type": "code",
   "execution_count": 4,
   "id": "62ae354b",
   "metadata": {},
   "outputs": [],
   "source": [
    "model = cv2.CascadeClassifier(\"haarcascade_frontalface_default.xml\")"
   ]
  },
  {
   "cell_type": "code",
   "execution_count": 5,
   "id": "5f94357c",
   "metadata": {},
   "outputs": [],
   "source": [
    "faces = model.detectMultiScale(photo)"
   ]
  },
  {
   "cell_type": "code",
   "execution_count": 6,
   "id": "e44014fe",
   "metadata": {},
   "outputs": [
    {
     "data": {
      "text/plain": [
       "array([[238, 125, 196, 196]], dtype=int32)"
      ]
     },
     "execution_count": 6,
     "metadata": {},
     "output_type": "execute_result"
    }
   ],
   "source": [
    "faces"
   ]
  },
  {
   "cell_type": "code",
   "execution_count": 31,
   "id": "00846c97",
   "metadata": {},
   "outputs": [],
   "source": [
    "import math\n",
    "while True :\n",
    "    ret, photo = cap.read()\n",
    "    faces = model.detectMultiScale(photo)\n",
    "    if len(faces) == 0:\n",
    "        pass\n",
    "    else:\n",
    "        x1 = faces[0][0]\n",
    "        y1 = faces[0][1]\n",
    "        x2 = x1 + faces[0][2]\n",
    "        y2 = y1 + faces[0][3]\n",
    "        cv2.rectangle(photo, (x1, y1), (x2, y2), [255, 0, 0], 3)\n",
    "        cphoto = photo[y1:y2, x1:x2]\n",
    "        cphoto = cv2.blur(cphoto, (15,15))\n",
    "       \n",
    "        photo[y1:y2, x1:x2] = cphoto\n",
    "        x3 = math.floor((x1 + x2) / 2)\n",
    "        y3 = math.floor((y1 + y2) / 2)\n",
    "        cv2.putText(photo, \n",
    "                '18+ only', \n",
    "                (x1, y3), \n",
    "                cv2.FONT_HERSHEY_COMPLEX, 1, \n",
    "                (0, 0, 255), \n",
    "                1, \n",
    "                cv2.LINE_4)\n",
    "        cv2.imshow(\"Arth\",photo)\n",
    "        if cv2.waitKey(10)==13:\n",
    "            break\n",
    "cv2.destroyAllWindows()\n",
    "    "
   ]
  },
  {
   "cell_type": "code",
   "execution_count": null,
   "id": "c1cdaaea",
   "metadata": {},
   "outputs": [],
   "source": [
    "cap.release()"
   ]
  },
  {
   "cell_type": "code",
   "execution_count": null,
   "id": "5c4726af",
   "metadata": {},
   "outputs": [],
   "source": []
  },
  {
   "cell_type": "code",
   "execution_count": null,
   "id": "db43cb6f",
   "metadata": {},
   "outputs": [],
   "source": []
  },
  {
   "cell_type": "code",
   "execution_count": null,
   "id": "3ba72377",
   "metadata": {},
   "outputs": [],
   "source": []
  }
 ],
 "metadata": {
  "kernelspec": {
   "display_name": "Python 3 (ipykernel)",
   "language": "python",
   "name": "python3"
  },
  "language_info": {
   "codemirror_mode": {
    "name": "ipython",
    "version": 3
   },
   "file_extension": ".py",
   "mimetype": "text/x-python",
   "name": "python",
   "nbconvert_exporter": "python",
   "pygments_lexer": "ipython3",
   "version": "3.10.12"
  }
 },
 "nbformat": 4,
 "nbformat_minor": 5
}
