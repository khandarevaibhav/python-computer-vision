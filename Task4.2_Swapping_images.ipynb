{
 "cells": [
  {
   "cell_type": "code",
   "execution_count": 1,
   "id": "bb874ea1",
   "metadata": {},
   "outputs": [],
   "source": [
    "import cv2 as cv\n",
    "import numpy as np\n",
    "p1 = cv.imread(\"swap1.jpg\")\n",
    "p2 = cv.imread(\"swap2.jpg\")"
   ]
  },
  {
   "cell_type": "code",
   "execution_count": null,
   "id": "ebe43712",
   "metadata": {},
   "outputs": [],
   "source": [
    "p1.shape\n",
    "p2.shape"
   ]
  },
  {
   "cell_type": "code",
   "execution_count": null,
   "id": "fa0a81bb",
   "metadata": {},
   "outputs": [],
   "source": [
    "mind = cv.CascadeClassifier('haarcascade_frontalface_default.xml')\n",
    "mind"
   ]
  },
  {
   "cell_type": "code",
   "execution_count": null,
   "id": "d330f465",
   "metadata": {},
   "outputs": [],
   "source": [
    "face1 = mind.detectMultiScale(p1)\n",
    "face1\n",
    "len(face1)"
   ]
  },
  {
   "cell_type": "code",
   "execution_count": null,
   "id": "1f486a21",
   "metadata": {},
   "outputs": [],
   "source": [
    "face2 = mind.detectMultiScale(p2)\n",
    "face2\n",
    "len(face2)"
   ]
  },
  {
   "cell_type": "code",
   "execution_count": 2,
   "id": "3d66e026",
   "metadata": {},
   "outputs": [],
   "source": [
    "cp1 = p1[30:290,30:230]\n",
    "cp2 = p2[35:220,30:250]  "
   ]
  },
  {
   "cell_type": "code",
   "execution_count": 3,
   "id": "89db3d46",
   "metadata": {},
   "outputs": [],
   "source": [
    "image1 = p1\n",
    "image2 = p2"
   ]
  },
  {
   "cell_type": "code",
   "execution_count": null,
   "id": "2132733c",
   "metadata": {},
   "outputs": [],
   "source": [
    "i=0\n",
    "while i<=150:\n",
    "    j=0\n",
    "    while j<=150:\n",
    "        image1[30+i][40+j] = cp2[i][j] \n",
    "        j=j+1\n",
    "\n",
    "    i=i+1\n",
    "    \n",
    "    \n",
    "cv.imshow('hi', image1)  \n",
    "cv.waitKey()\n",
    "cv.destroyAllWindows()    "
   ]
  },
  {
   "cell_type": "code",
   "execution_count": 4,
   "id": "f28409b6",
   "metadata": {},
   "outputs": [],
   "source": [
    "i=0\n",
    "while i<=160:\n",
    "    j=0\n",
    "    while j<=160:\n",
    "        image2[35+i][30+j] = cp1[i][j] \n",
    "        j=j+1\n",
    "\n",
    "    i=i+1\n",
    "    \n",
    "    \n",
    "cv.imshow('hello', image2)  \n",
    "cv.waitKey()\n",
    "cv.destroyAllWindows()   "
   ]
  },
  {
   "cell_type": "code",
   "execution_count": null,
   "id": "1553f530",
   "metadata": {},
   "outputs": [],
   "source": []
  }
 ],
 "metadata": {
  "kernelspec": {
   "display_name": "Python 3",
   "language": "python",
   "name": "python3"
  },
  "language_info": {
   "codemirror_mode": {
    "name": "ipython",
    "version": 3
   },
   "file_extension": ".py",
   "mimetype": "text/x-python",
   "name": "python",
   "nbconvert_exporter": "python",
   "pygments_lexer": "ipython3",
   "version": "3.8.8"
  }
 },
 "nbformat": 4,
 "nbformat_minor": 5
}
