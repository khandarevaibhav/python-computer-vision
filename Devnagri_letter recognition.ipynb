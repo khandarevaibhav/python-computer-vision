{
 "cells": [
  {
   "cell_type": "markdown",
   "id": "f95247be",
   "metadata": {},
   "source": [
    "# /*******************************************************\n",
    "* Copyright         : 2023 Vaibhav Khandare\n",
    "* Description       : This file content is predict the devnagri letters\n",
    "*                    \n",
    "* Revision History  :\n",
    "* \t\tAuthor \t\t\n",
    "        Vaibhav Khandare \n",
    "* ------------------------------------------------------------------\n",
    "/******************************************************************/"
   ]
  },
  {
   "cell_type": "code",
   "execution_count": null,
   "id": "5cddced1",
   "metadata": {},
   "outputs": [],
   "source": [
    "from os import listdir"
   ]
  },
  {
   "cell_type": "code",
   "execution_count": 2,
   "id": "28731889",
   "metadata": {},
   "outputs": [],
   "source": [
    "from keras.preprocessing import image "
   ]
  },
  {
   "cell_type": "code",
   "execution_count": 3,
   "id": "292d1b7c",
   "metadata": {},
   "outputs": [],
   "source": [
    "train_data = listdir('.\\DEVNAGARI_NEW\\TRAIN')"
   ]
  },
  {
   "cell_type": "code",
   "execution_count": 4,
   "id": "3264f352",
   "metadata": {},
   "outputs": [],
   "source": [
    "test_data = listdir('.\\DEVNAGARI_NEW\\TEST')"
   ]
  },
  {
   "cell_type": "code",
   "execution_count": 5,
   "id": "6c474573",
   "metadata": {},
   "outputs": [],
   "source": [
    "X_train = []\n",
    "y_train = []\n",
    "\n",
    "for i in train_data:\n",
    "    for j in listdir('./DEVNAGARI_NEW/TRAIN/' + i):\n",
    "                     img =  image.load_img('./DEVNAGARI_NEW/TRAIN/'+ i +'/' + j)\n",
    "                     img = image.img_to_array(img)                     \n",
    "                     X_train.append(img)\n",
    "                     y_train.append(i)                       \n",
    "                     \n",
    "                     "
   ]
  },
  {
   "cell_type": "code",
   "execution_count": 6,
   "id": "812003c2",
   "metadata": {},
   "outputs": [],
   "source": [
    "import numpy as np"
   ]
  },
  {
   "cell_type": "code",
   "execution_count": 7,
   "id": "574e6b06",
   "metadata": {},
   "outputs": [],
   "source": [
    "X_train = np.array(X_train)"
   ]
  },
  {
   "cell_type": "code",
   "execution_count": 8,
   "id": "acd565f3",
   "metadata": {},
   "outputs": [
    {
     "data": {
      "text/plain": [
       "(6528, 28, 28, 3)"
      ]
     },
     "execution_count": 8,
     "metadata": {},
     "output_type": "execute_result"
    }
   ],
   "source": [
    "X_train.shape"
   ]
  },
  {
   "cell_type": "code",
   "execution_count": 9,
   "id": "3a1b4a17",
   "metadata": {},
   "outputs": [],
   "source": [
    "y_train = np.array(y_train)"
   ]
  },
  {
   "cell_type": "code",
   "execution_count": 10,
   "id": "bd00f9a9",
   "metadata": {},
   "outputs": [
    {
     "data": {
      "text/plain": [
       "(6528,)"
      ]
     },
     "execution_count": 10,
     "metadata": {},
     "output_type": "execute_result"
    }
   ],
   "source": [
    "y_train.shape"
   ]
  },
  {
   "cell_type": "code",
   "execution_count": 11,
   "id": "544f45de",
   "metadata": {},
   "outputs": [],
   "source": [
    "X_test = []\n",
    "y_test = []\n",
    "\n",
    "for i in test_data:\n",
    "    for j in listdir('./DEVNAGARI_NEW/TEST/' + i):\n",
    "                     img =  image.load_img('./DEVNAGARI_NEW/TEST/'+ i +'/' + j)\n",
    "                     img = image.img_to_array(img)                     \n",
    "                     X_test.append(img)\n",
    "                     y_test.append(i) "
   ]
  },
  {
   "cell_type": "code",
   "execution_count": 12,
   "id": "570d2fd1",
   "metadata": {},
   "outputs": [],
   "source": [
    "X_test = np.array(X_test)\n",
    "y_test = np.array(y_test)"
   ]
  },
  {
   "cell_type": "code",
   "execution_count": 13,
   "id": "08f97d42",
   "metadata": {},
   "outputs": [
    {
     "data": {
      "text/plain": [
       "(3312, 28, 28, 3)"
      ]
     },
     "execution_count": 13,
     "metadata": {},
     "output_type": "execute_result"
    }
   ],
   "source": [
    "X_test.shape"
   ]
  },
  {
   "cell_type": "code",
   "execution_count": 14,
   "id": "9adf1b3e",
   "metadata": {},
   "outputs": [
    {
     "data": {
      "text/plain": [
       "(3312,)"
      ]
     },
     "execution_count": 14,
     "metadata": {},
     "output_type": "execute_result"
    }
   ],
   "source": [
    "y_test.shape"
   ]
  },
  {
   "cell_type": "code",
   "execution_count": 15,
   "id": "c68153fb",
   "metadata": {},
   "outputs": [],
   "source": [
    "X_train_set = np.reshape(X_train, (-1, 28*28*3))"
   ]
  },
  {
   "cell_type": "code",
   "execution_count": 16,
   "id": "907c8a26",
   "metadata": {},
   "outputs": [
    {
     "data": {
      "text/plain": [
       "(6528, 2352)"
      ]
     },
     "execution_count": 16,
     "metadata": {},
     "output_type": "execute_result"
    }
   ],
   "source": [
    "X_train_set.shape"
   ]
  },
  {
   "cell_type": "code",
   "execution_count": 17,
   "id": "3b027516",
   "metadata": {},
   "outputs": [],
   "source": [
    "X_test_set = np.reshape(X_test, (-1, 28*28*3))"
   ]
  },
  {
   "cell_type": "code",
   "execution_count": 18,
   "id": "4bdfdaf4",
   "metadata": {},
   "outputs": [
    {
     "data": {
      "text/plain": [
       "(3312, 2352)"
      ]
     },
     "execution_count": 18,
     "metadata": {},
     "output_type": "execute_result"
    }
   ],
   "source": [
    "X_test_set.shape"
   ]
  },
  {
   "cell_type": "code",
   "execution_count": 34,
   "id": "77b7093a",
   "metadata": {},
   "outputs": [
    {
     "data": {
      "text/plain": [
       "array([[[[255., 255., 255.],\n",
       "         [255., 255., 255.],\n",
       "         [250., 250., 250.],\n",
       "         ...,\n",
       "         [ 56.,  56.,  56.],\n",
       "         [ 19.,  19.,  19.],\n",
       "         [152., 152., 152.]],\n",
       "\n",
       "        [[254., 254., 254.],\n",
       "         [255., 255., 255.],\n",
       "         [255., 255., 255.],\n",
       "         ...,\n",
       "         [ 41.,  41.,  41.],\n",
       "         [ 42.,  42.,  42.],\n",
       "         [162., 162., 162.]],\n",
       "\n",
       "        [[255., 255., 255.],\n",
       "         [252., 252., 252.],\n",
       "         [255., 255., 255.],\n",
       "         ...,\n",
       "         [195., 195., 195.],\n",
       "         [174., 174., 174.],\n",
       "         [214., 214., 214.]],\n",
       "\n",
       "        ...,\n",
       "\n",
       "        [[255., 255., 255.],\n",
       "         [255., 255., 255.],\n",
       "         [255., 255., 255.],\n",
       "         ...,\n",
       "         [253., 253., 253.],\n",
       "         [254., 254., 254.],\n",
       "         [255., 255., 255.]],\n",
       "\n",
       "        [[255., 255., 255.],\n",
       "         [255., 255., 255.],\n",
       "         [255., 255., 255.],\n",
       "         ...,\n",
       "         [253., 253., 253.],\n",
       "         [254., 254., 254.],\n",
       "         [255., 255., 255.]],\n",
       "\n",
       "        [[255., 255., 255.],\n",
       "         [255., 255., 255.],\n",
       "         [255., 255., 255.],\n",
       "         ...,\n",
       "         [253., 253., 253.],\n",
       "         [254., 254., 254.],\n",
       "         [255., 255., 255.]]],\n",
       "\n",
       "\n",
       "       [[[254., 254., 254.],\n",
       "         [249., 249., 249.],\n",
       "         [255., 255., 255.],\n",
       "         ...,\n",
       "         [135., 135., 135.],\n",
       "         [147., 147., 147.],\n",
       "         [239., 239., 239.]],\n",
       "\n",
       "        [[255., 255., 255.],\n",
       "         [254., 254., 254.],\n",
       "         [255., 255., 255.],\n",
       "         ...,\n",
       "         [ 15.,  15.,  15.],\n",
       "         [ 52.,  52.,  52.],\n",
       "         [157., 157., 157.]],\n",
       "\n",
       "        [[255., 255., 255.],\n",
       "         [255., 255., 255.],\n",
       "         [238., 238., 238.],\n",
       "         ...,\n",
       "         [ 87.,  87.,  87.],\n",
       "         [113., 113., 113.],\n",
       "         [187., 187., 187.]],\n",
       "\n",
       "        ...,\n",
       "\n",
       "        [[255., 255., 255.],\n",
       "         [255., 255., 255.],\n",
       "         [254., 254., 254.],\n",
       "         ...,\n",
       "         [254., 254., 254.],\n",
       "         [254., 254., 254.],\n",
       "         [254., 254., 254.]],\n",
       "\n",
       "        [[255., 255., 255.],\n",
       "         [255., 255., 255.],\n",
       "         [254., 254., 254.],\n",
       "         ...,\n",
       "         [255., 255., 255.],\n",
       "         [255., 255., 255.],\n",
       "         [255., 255., 255.]],\n",
       "\n",
       "        [[255., 255., 255.],\n",
       "         [255., 255., 255.],\n",
       "         [254., 254., 254.],\n",
       "         ...,\n",
       "         [255., 255., 255.],\n",
       "         [255., 255., 255.],\n",
       "         [255., 255., 255.]]],\n",
       "\n",
       "\n",
       "       [[[251., 251., 251.],\n",
       "         [255., 255., 255.],\n",
       "         [248., 248., 248.],\n",
       "         ...,\n",
       "         [ 22.,  22.,  22.],\n",
       "         [ 77.,  77.,  77.],\n",
       "         [230., 230., 230.]],\n",
       "\n",
       "        [[253., 253., 253.],\n",
       "         [255., 255., 255.],\n",
       "         [253., 253., 253.],\n",
       "         ...,\n",
       "         [  0.,   0.,   0.],\n",
       "         [ 35.,  35.,  35.],\n",
       "         [192., 192., 192.]],\n",
       "\n",
       "        [[249., 249., 249.],\n",
       "         [254., 254., 254.],\n",
       "         [241., 241., 241.],\n",
       "         ...,\n",
       "         [112., 112., 112.],\n",
       "         [ 45.,  45.,  45.],\n",
       "         [114., 114., 114.]],\n",
       "\n",
       "        ...,\n",
       "\n",
       "        [[252., 252., 252.],\n",
       "         [252., 252., 252.],\n",
       "         [253., 253., 253.],\n",
       "         ...,\n",
       "         [138., 138., 138.],\n",
       "         [215., 215., 215.],\n",
       "         [255., 255., 255.]],\n",
       "\n",
       "        [[255., 255., 255.],\n",
       "         [255., 255., 255.],\n",
       "         [255., 255., 255.],\n",
       "         ...,\n",
       "         [234., 234., 234.],\n",
       "         [252., 252., 252.],\n",
       "         [255., 255., 255.]],\n",
       "\n",
       "        [[255., 255., 255.],\n",
       "         [255., 255., 255.],\n",
       "         [255., 255., 255.],\n",
       "         ...,\n",
       "         [254., 254., 254.],\n",
       "         [252., 252., 252.],\n",
       "         [251., 251., 251.]]],\n",
       "\n",
       "\n",
       "       ...,\n",
       "\n",
       "\n",
       "       [[[255., 255., 255.],\n",
       "         [251., 251., 251.],\n",
       "         [245., 245., 245.],\n",
       "         ...,\n",
       "         [255., 255., 255.],\n",
       "         [255., 255., 255.],\n",
       "         [255., 255., 255.]],\n",
       "\n",
       "        [[252., 252., 252.],\n",
       "         [255., 255., 255.],\n",
       "         [255., 255., 255.],\n",
       "         ...,\n",
       "         [254., 254., 254.],\n",
       "         [254., 254., 254.],\n",
       "         [254., 254., 254.]],\n",
       "\n",
       "        [[254., 254., 254.],\n",
       "         [251., 251., 251.],\n",
       "         [251., 251., 251.],\n",
       "         ...,\n",
       "         [254., 254., 254.],\n",
       "         [254., 254., 254.],\n",
       "         [254., 254., 254.]],\n",
       "\n",
       "        ...,\n",
       "\n",
       "        [[255., 255., 255.],\n",
       "         [255., 255., 255.],\n",
       "         [254., 254., 254.],\n",
       "         ...,\n",
       "         [255., 255., 255.],\n",
       "         [255., 255., 255.],\n",
       "         [255., 255., 255.]],\n",
       "\n",
       "        [[254., 254., 254.],\n",
       "         [255., 255., 255.],\n",
       "         [255., 255., 255.],\n",
       "         ...,\n",
       "         [255., 255., 255.],\n",
       "         [255., 255., 255.],\n",
       "         [250., 250., 250.]],\n",
       "\n",
       "        [[255., 255., 255.],\n",
       "         [255., 255., 255.],\n",
       "         [253., 253., 253.],\n",
       "         ...,\n",
       "         [253., 253., 253.],\n",
       "         [252., 252., 252.],\n",
       "         [251., 251., 251.]]],\n",
       "\n",
       "\n",
       "       [[[255., 255., 255.],\n",
       "         [255., 255., 255.],\n",
       "         [251., 251., 251.],\n",
       "         ...,\n",
       "         [211., 211., 211.],\n",
       "         [217., 217., 217.],\n",
       "         [223., 223., 223.]],\n",
       "\n",
       "        [[246., 246., 246.],\n",
       "         [235., 235., 235.],\n",
       "         [254., 254., 254.],\n",
       "         ...,\n",
       "         [102., 102., 102.],\n",
       "         [143., 143., 143.],\n",
       "         [182., 182., 182.]],\n",
       "\n",
       "        [[255., 255., 255.],\n",
       "         [246., 246., 246.],\n",
       "         [255., 255., 255.],\n",
       "         ...,\n",
       "         [205., 205., 205.],\n",
       "         [230., 230., 230.],\n",
       "         [251., 251., 251.]],\n",
       "\n",
       "        ...,\n",
       "\n",
       "        [[253., 253., 253.],\n",
       "         [254., 254., 254.],\n",
       "         [254., 254., 254.],\n",
       "         ...,\n",
       "         [255., 255., 255.],\n",
       "         [255., 255., 255.],\n",
       "         [255., 255., 255.]],\n",
       "\n",
       "        [[255., 255., 255.],\n",
       "         [255., 255., 255.],\n",
       "         [255., 255., 255.],\n",
       "         ...,\n",
       "         [255., 255., 255.],\n",
       "         [255., 255., 255.],\n",
       "         [255., 255., 255.]],\n",
       "\n",
       "        [[254., 254., 254.],\n",
       "         [254., 254., 254.],\n",
       "         [255., 255., 255.],\n",
       "         ...,\n",
       "         [255., 255., 255.],\n",
       "         [255., 255., 255.],\n",
       "         [255., 255., 255.]]],\n",
       "\n",
       "\n",
       "       [[[251., 251., 251.],\n",
       "         [255., 255., 255.],\n",
       "         [250., 250., 250.],\n",
       "         ...,\n",
       "         [152., 152., 152.],\n",
       "         [174., 174., 174.],\n",
       "         [200., 200., 200.]],\n",
       "\n",
       "        [[244., 244., 244.],\n",
       "         [255., 255., 255.],\n",
       "         [251., 251., 251.],\n",
       "         ...,\n",
       "         [ 50.,  50.,  50.],\n",
       "         [ 61.,  61.,  61.],\n",
       "         [109., 109., 109.]],\n",
       "\n",
       "        [[253., 253., 253.],\n",
       "         [251., 251., 251.],\n",
       "         [246., 246., 246.],\n",
       "         ...,\n",
       "         [183., 183., 183.],\n",
       "         [179., 179., 179.],\n",
       "         [210., 210., 210.]],\n",
       "\n",
       "        ...,\n",
       "\n",
       "        [[255., 255., 255.],\n",
       "         [255., 255., 255.],\n",
       "         [255., 255., 255.],\n",
       "         ...,\n",
       "         [255., 255., 255.],\n",
       "         [255., 255., 255.],\n",
       "         [255., 255., 255.]],\n",
       "\n",
       "        [[255., 255., 255.],\n",
       "         [255., 255., 255.],\n",
       "         [255., 255., 255.],\n",
       "         ...,\n",
       "         [255., 255., 255.],\n",
       "         [255., 255., 255.],\n",
       "         [255., 255., 255.]],\n",
       "\n",
       "        [[255., 255., 255.],\n",
       "         [255., 255., 255.],\n",
       "         [255., 255., 255.],\n",
       "         ...,\n",
       "         [255., 255., 255.],\n",
       "         [255., 255., 255.],\n",
       "         [255., 255., 255.]]]], dtype=float32)"
      ]
     },
     "execution_count": 34,
     "metadata": {},
     "output_type": "execute_result"
    }
   ],
   "source": [
    "X_test"
   ]
  },
  {
   "cell_type": "code",
   "execution_count": 35,
   "id": "d2b6fcd9",
   "metadata": {},
   "outputs": [],
   "source": [
    "import matplotlib.pyplot as plt"
   ]
  },
  {
   "cell_type": "code",
   "execution_count": 40,
   "id": "522c52bf",
   "metadata": {},
   "outputs": [],
   "source": [
    "xx = X_test[15]"
   ]
  },
  {
   "cell_type": "code",
   "execution_count": 41,
   "id": "fbbc5be0",
   "metadata": {},
   "outputs": [
    {
     "name": "stderr",
     "output_type": "stream",
     "text": [
      "Clipping input data to the valid range for imshow with RGB data ([0..1] for floats or [0..255] for integers).\n"
     ]
    },
    {
     "data": {
      "text/plain": [
       "<matplotlib.image.AxesImage at 0x22dc9930760>"
      ]
     },
     "execution_count": 41,
     "metadata": {},
     "output_type": "execute_result"
    },
    {
     "data": {
      "image/png": "[encoded data removed]",
      "text/plain": [
       "<Figure size 432x288 with 1 Axes>"
      ]
     },
     "metadata": {
      "needs_background": "light"
     },
     "output_type": "display_data"
    }
   ],
   "source": [
    "plt.imshow(xx)"
   ]
  },
  {
   "cell_type": "code",
   "execution_count": null,
   "id": "bd1b0cb1",
   "metadata": {},
   "outputs": [],
   "source": []
  },
  {
   "cell_type": "code",
   "execution_count": 19,
   "id": "b56c6a8c",
   "metadata": {},
   "outputs": [
    {
     "data": {
      "text/plain": [
       "array(['1', '1', '1', ..., '9', '9', '9'], dtype='<U2')"
      ]
     },
     "execution_count": 19,
     "metadata": {},
     "output_type": "execute_result"
    }
   ],
   "source": [
    "y_train"
   ]
  },
  {
   "cell_type": "code",
   "execution_count": 20,
   "id": "76129494",
   "metadata": {},
   "outputs": [],
   "source": [
    "import pandas as pd"
   ]
  },
  {
   "cell_type": "code",
   "execution_count": 21,
   "id": "174cd93c",
   "metadata": {},
   "outputs": [],
   "source": [
    "y_train_cat = pd.get_dummies(y_train)"
   ]
  },
  {
   "cell_type": "code",
   "execution_count": 22,
   "id": "3ac99535",
   "metadata": {},
   "outputs": [
    {
     "data": {
      "text/html": [
       "<div>\n",
       "<style scoped>\n",
       "    .dataframe tbody tr th:only-of-type {\n",
       "        vertical-align: middle;\n",
       "    }\n",
       "\n",
       "    .dataframe tbody tr th {\n",
       "        vertical-align: top;\n",
       "    }\n",
       "\n",
       "    .dataframe thead th {\n",
       "        text-align: right;\n",
       "    }\n",
       "</style>\n",
       "<table border=\"1\" class=\"dataframe\">\n",
       "  <thead>\n",
       "    <tr style=\"text-align: right;\">\n",
       "      <th></th>\n",
       "      <th>1</th>\n",
       "      <th>10</th>\n",
       "      <th>11</th>\n",
       "      <th>12</th>\n",
       "      <th>13</th>\n",
       "      <th>14</th>\n",
       "      <th>15</th>\n",
       "      <th>16</th>\n",
       "      <th>17</th>\n",
       "      <th>18</th>\n",
       "      <th>...</th>\n",
       "      <th>44</th>\n",
       "      <th>45</th>\n",
       "      <th>46</th>\n",
       "      <th>47</th>\n",
       "      <th>48</th>\n",
       "      <th>5</th>\n",
       "      <th>6</th>\n",
       "      <th>7</th>\n",
       "      <th>8</th>\n",
       "      <th>9</th>\n",
       "    </tr>\n",
       "  </thead>\n",
       "  <tbody>\n",
       "    <tr>\n",
       "      <th>0</th>\n",
       "      <td>1</td>\n",
       "      <td>0</td>\n",
       "      <td>0</td>\n",
       "      <td>0</td>\n",
       "      <td>0</td>\n",
       "      <td>0</td>\n",
       "      <td>0</td>\n",
       "      <td>0</td>\n",
       "      <td>0</td>\n",
       "      <td>0</td>\n",
       "      <td>...</td>\n",
       "      <td>0</td>\n",
       "      <td>0</td>\n",
       "      <td>0</td>\n",
       "      <td>0</td>\n",
       "      <td>0</td>\n",
       "      <td>0</td>\n",
       "      <td>0</td>\n",
       "      <td>0</td>\n",
       "      <td>0</td>\n",
       "      <td>0</td>\n",
       "    </tr>\n",
       "    <tr>\n",
       "      <th>1</th>\n",
       "      <td>1</td>\n",
       "      <td>0</td>\n",
       "      <td>0</td>\n",
       "      <td>0</td>\n",
       "      <td>0</td>\n",
       "      <td>0</td>\n",
       "      <td>0</td>\n",
       "      <td>0</td>\n",
       "      <td>0</td>\n",
       "      <td>0</td>\n",
       "      <td>...</td>\n",
       "      <td>0</td>\n",
       "      <td>0</td>\n",
       "      <td>0</td>\n",
       "      <td>0</td>\n",
       "      <td>0</td>\n",
       "      <td>0</td>\n",
       "      <td>0</td>\n",
       "      <td>0</td>\n",
       "      <td>0</td>\n",
       "      <td>0</td>\n",
       "    </tr>\n",
       "    <tr>\n",
       "      <th>2</th>\n",
       "      <td>1</td>\n",
       "      <td>0</td>\n",
       "      <td>0</td>\n",
       "      <td>0</td>\n",
       "      <td>0</td>\n",
       "      <td>0</td>\n",
       "      <td>0</td>\n",
       "      <td>0</td>\n",
       "      <td>0</td>\n",
       "      <td>0</td>\n",
       "      <td>...</td>\n",
       "      <td>0</td>\n",
       "      <td>0</td>\n",
       "      <td>0</td>\n",
       "      <td>0</td>\n",
       "      <td>0</td>\n",
       "      <td>0</td>\n",
       "      <td>0</td>\n",
       "      <td>0</td>\n",
       "      <td>0</td>\n",
       "      <td>0</td>\n",
       "    </tr>\n",
       "    <tr>\n",
       "      <th>3</th>\n",
       "      <td>1</td>\n",
       "      <td>0</td>\n",
       "      <td>0</td>\n",
       "      <td>0</td>\n",
       "      <td>0</td>\n",
       "      <td>0</td>\n",
       "      <td>0</td>\n",
       "      <td>0</td>\n",
       "      <td>0</td>\n",
       "      <td>0</td>\n",
       "      <td>...</td>\n",
       "      <td>0</td>\n",
       "      <td>0</td>\n",
       "      <td>0</td>\n",
       "      <td>0</td>\n",
       "      <td>0</td>\n",
       "      <td>0</td>\n",
       "      <td>0</td>\n",
       "      <td>0</td>\n",
       "      <td>0</td>\n",
       "      <td>0</td>\n",
       "    </tr>\n",
       "    <tr>\n",
       "      <th>4</th>\n",
       "      <td>1</td>\n",
       "      <td>0</td>\n",
       "      <td>0</td>\n",
       "      <td>0</td>\n",
       "      <td>0</td>\n",
       "      <td>0</td>\n",
       "      <td>0</td>\n",
       "      <td>0</td>\n",
       "      <td>0</td>\n",
       "      <td>0</td>\n",
       "      <td>...</td>\n",
       "      <td>0</td>\n",
       "      <td>0</td>\n",
       "      <td>0</td>\n",
       "      <td>0</td>\n",
       "      <td>0</td>\n",
       "      <td>0</td>\n",
       "      <td>0</td>\n",
       "      <td>0</td>\n",
       "      <td>0</td>\n",
       "      <td>0</td>\n",
       "    </tr>\n",
       "    <tr>\n",
       "      <th>...</th>\n",
       "      <td>...</td>\n",
       "      <td>...</td>\n",
       "      <td>...</td>\n",
       "      <td>...</td>\n",
       "      <td>...</td>\n",
       "      <td>...</td>\n",
       "      <td>...</td>\n",
       "      <td>...</td>\n",
       "      <td>...</td>\n",
       "      <td>...</td>\n",
       "      <td>...</td>\n",
       "      <td>...</td>\n",
       "      <td>...</td>\n",
       "      <td>...</td>\n",
       "      <td>...</td>\n",
       "      <td>...</td>\n",
       "      <td>...</td>\n",
       "      <td>...</td>\n",
       "      <td>...</td>\n",
       "      <td>...</td>\n",
       "      <td>...</td>\n",
       "    </tr>\n",
       "    <tr>\n",
       "      <th>6523</th>\n",
       "      <td>0</td>\n",
       "      <td>0</td>\n",
       "      <td>0</td>\n",
       "      <td>0</td>\n",
       "      <td>0</td>\n",
       "      <td>0</td>\n",
       "      <td>0</td>\n",
       "      <td>0</td>\n",
       "      <td>0</td>\n",
       "      <td>0</td>\n",
       "      <td>...</td>\n",
       "      <td>0</td>\n",
       "      <td>0</td>\n",
       "      <td>0</td>\n",
       "      <td>0</td>\n",
       "      <td>0</td>\n",
       "      <td>0</td>\n",
       "      <td>0</td>\n",
       "      <td>0</td>\n",
       "      <td>0</td>\n",
       "      <td>1</td>\n",
       "    </tr>\n",
       "    <tr>\n",
       "      <th>6524</th>\n",
       "      <td>0</td>\n",
       "      <td>0</td>\n",
       "      <td>0</td>\n",
       "      <td>0</td>\n",
       "      <td>0</td>\n",
       "      <td>0</td>\n",
       "      <td>0</td>\n",
       "      <td>0</td>\n",
       "      <td>0</td>\n",
       "      <td>0</td>\n",
       "      <td>...</td>\n",
       "      <td>0</td>\n",
       "      <td>0</td>\n",
       "      <td>0</td>\n",
       "      <td>0</td>\n",
       "      <td>0</td>\n",
       "      <td>0</td>\n",
       "      <td>0</td>\n",
       "      <td>0</td>\n",
       "      <td>0</td>\n",
       "      <td>1</td>\n",
       "    </tr>\n",
       "    <tr>\n",
       "      <th>6525</th>\n",
       "      <td>0</td>\n",
       "      <td>0</td>\n",
       "      <td>0</td>\n",
       "      <td>0</td>\n",
       "      <td>0</td>\n",
       "      <td>0</td>\n",
       "      <td>0</td>\n",
       "      <td>0</td>\n",
       "      <td>0</td>\n",
       "      <td>0</td>\n",
       "      <td>...</td>\n",
       "      <td>0</td>\n",
       "      <td>0</td>\n",
       "      <td>0</td>\n",
       "      <td>0</td>\n",
       "      <td>0</td>\n",
       "      <td>0</td>\n",
       "      <td>0</td>\n",
       "      <td>0</td>\n",
       "      <td>0</td>\n",
       "      <td>1</td>\n",
       "    </tr>\n",
       "    <tr>\n",
       "      <th>6526</th>\n",
       "      <td>0</td>\n",
       "      <td>0</td>\n",
       "      <td>0</td>\n",
       "      <td>0</td>\n",
       "      <td>0</td>\n",
       "      <td>0</td>\n",
       "      <td>0</td>\n",
       "      <td>0</td>\n",
       "      <td>0</td>\n",
       "      <td>0</td>\n",
       "      <td>...</td>\n",
       "      <td>0</td>\n",
       "      <td>0</td>\n",
       "      <td>0</td>\n",
       "      <td>0</td>\n",
       "      <td>0</td>\n",
       "      <td>0</td>\n",
       "      <td>0</td>\n",
       "      <td>0</td>\n",
       "      <td>0</td>\n",
       "      <td>1</td>\n",
       "    </tr>\n",
       "    <tr>\n",
       "      <th>6527</th>\n",
       "      <td>0</td>\n",
       "      <td>0</td>\n",
       "      <td>0</td>\n",
       "      <td>0</td>\n",
       "      <td>0</td>\n",
       "      <td>0</td>\n",
       "      <td>0</td>\n",
       "      <td>0</td>\n",
       "      <td>0</td>\n",
       "      <td>0</td>\n",
       "      <td>...</td>\n",
       "      <td>0</td>\n",
       "      <td>0</td>\n",
       "      <td>0</td>\n",
       "      <td>0</td>\n",
       "      <td>0</td>\n",
       "      <td>0</td>\n",
       "      <td>0</td>\n",
       "      <td>0</td>\n",
       "      <td>0</td>\n",
       "      <td>1</td>\n",
       "    </tr>\n",
       "  </tbody>\n",
       "</table>\n",
       "<p>6528 rows × 48 columns</p>\n",
       "</div>"
      ],
      "text/plain": [
       "      1  10  11  12  13  14  15  16  17  18  ...  44  45  46  47  48  5  6  7  \\\n",
       "0     1   0   0   0   0   0   0   0   0   0  ...   0   0   0   0   0  0  0  0   \n",
       "1     1   0   0   0   0   0   0   0   0   0  ...   0   0   0   0   0  0  0  0   \n",
       "2     1   0   0   0   0   0   0   0   0   0  ...   0   0   0   0   0  0  0  0   \n",
       "3     1   0   0   0   0   0   0   0   0   0  ...   0   0   0   0   0  0  0  0   \n",
       "4     1   0   0   0   0   0   0   0   0   0  ...   0   0   0   0   0  0  0  0   \n",
       "...  ..  ..  ..  ..  ..  ..  ..  ..  ..  ..  ...  ..  ..  ..  ..  .. .. .. ..   \n",
       "6523  0   0   0   0   0   0   0   0   0   0  ...   0   0   0   0   0  0  0  0   \n",
       "6524  0   0   0   0   0   0   0   0   0   0  ...   0   0   0   0   0  0  0  0   \n",
       "6525  0   0   0   0   0   0   0   0   0   0  ...   0   0   0   0   0  0  0  0   \n",
       "6526  0   0   0   0   0   0   0   0   0   0  ...   0   0   0   0   0  0  0  0   \n",
       "6527  0   0   0   0   0   0   0   0   0   0  ...   0   0   0   0   0  0  0  0   \n",
       "\n",
       "      8  9  \n",
       "0     0  0  \n",
       "1     0  0  \n",
       "2     0  0  \n",
       "3     0  0  \n",
       "4     0  0  \n",
       "...  .. ..  \n",
       "6523  0  1  \n",
       "6524  0  1  \n",
       "6525  0  1  \n",
       "6526  0  1  \n",
       "6527  0  1  \n",
       "\n",
       "[6528 rows x 48 columns]"
      ]
     },
     "execution_count": 22,
     "metadata": {},
     "output_type": "execute_result"
    }
   ],
   "source": [
    "y_train_cat"
   ]
  },
  {
   "cell_type": "code",
   "execution_count": 23,
   "id": "98bdb8f1",
   "metadata": {},
   "outputs": [],
   "source": [
    "from keras.models import Sequential"
   ]
  },
  {
   "cell_type": "code",
   "execution_count": 24,
   "id": "0da1fffc",
   "metadata": {},
   "outputs": [],
   "source": [
    "model = Sequential()"
   ]
  },
  {
   "cell_type": "code",
   "execution_count": 25,
   "id": "6e0db0e9",
   "metadata": {},
   "outputs": [],
   "source": [
    "from keras.layers import Dense"
   ]
  },
  {
   "cell_type": "code",
   "execution_count": 26,
   "id": "8009dc21",
   "metadata": {},
   "outputs": [],
   "source": [
    "model.add(\n",
    "    Dense(units = 128, \n",
    "        activation = 'relu', \n",
    "        kernel_initializer = 'he_normal', \n",
    "        input_shape = (28*28*3, )))"
   ]
  },
  {
   "cell_type": "code",
   "execution_count": 27,
   "id": "eb197abb",
   "metadata": {},
   "outputs": [],
   "source": [
    "model.add(\n",
    "    Dense(units = 64, \n",
    "        activation = 'relu', \n",
    "        kernel_initializer = 'he_normal'))"
   ]
  },
  {
   "cell_type": "code",
   "execution_count": 28,
   "id": "806648ac",
   "metadata": {},
   "outputs": [],
   "source": [
    "model.add(\n",
    "    Dense(units = 32, \n",
    "        activation = 'relu', \n",
    "        kernel_initializer = 'he_normal'))"
   ]
  },
  {
   "cell_type": "code",
   "execution_count": 29,
   "id": "7f3955dd",
   "metadata": {},
   "outputs": [],
   "source": [
    "model.add(\n",
    "    Dense(units = 16, \n",
    "        activation = 'relu', \n",
    "        kernel_initializer = 'he_normal'))"
   ]
  },
  {
   "cell_type": "code",
   "execution_count": 30,
   "id": "0b114883",
   "metadata": {},
   "outputs": [],
   "source": [
    "model.add(\n",
    "    Dense(units = 48, \n",
    "        activation = 'softmax'))"
   ]
  },
  {
   "cell_type": "code",
   "execution_count": 31,
   "id": "3e02bce5",
   "metadata": {},
   "outputs": [],
   "source": [
    "from keras.optimizers import RMSprop"
   ]
  },
  {
   "cell_type": "code",
   "execution_count": 32,
   "id": "92fb4fc1",
   "metadata": {},
   "outputs": [],
   "source": [
    "model.compile(optimizer=RMSprop(learning_rate=0.01), loss='categorical_crossentropy', metrics=['accuracy'] )"
   ]
  },
  {
   "cell_type": "code",
   "execution_count": 33,
   "id": "55090605",
   "metadata": {},
   "outputs": [
    {
     "name": "stdout",
     "output_type": "stream",
     "text": [
      "Epoch 1/50\n",
      "204/204 [==============================] - 37s 10ms/step - loss: 894.2686 - accuracy: 0.0207\n",
      "Epoch 2/50\n",
      "204/204 [==============================] - 2s 10ms/step - loss: 3.8753 - accuracy: 0.0153\n",
      "Epoch 3/50\n",
      "204/204 [==============================] - 2s 10ms/step - loss: 3.8748 - accuracy: 0.0187\n",
      "Epoch 4/50\n",
      "204/204 [==============================] - 2s 10ms/step - loss: 3.8746 - accuracy: 0.0204\n",
      "Epoch 5/50\n",
      "204/204 [==============================] - 2s 10ms/step - loss: 3.8745 - accuracy: 0.0224\n",
      "Epoch 6/50\n",
      "204/204 [==============================] - 2s 10ms/step - loss: 3.8746 - accuracy: 0.0199\n",
      "Epoch 7/50\n",
      "204/204 [==============================] - 2s 10ms/step - loss: 3.8746 - accuracy: 0.0169\n",
      "Epoch 8/50\n",
      "204/204 [==============================] - 2s 10ms/step - loss: 3.8742 - accuracy: 0.0199\n",
      "Epoch 9/50\n",
      "204/204 [==============================] - 2s 10ms/step - loss: 3.8746 - accuracy: 0.0138\n",
      "Epoch 10/50\n",
      "204/204 [==============================] - 2s 10ms/step - loss: 3.8744 - accuracy: 0.0179\n",
      "Epoch 11/50\n",
      "204/204 [==============================] - 2s 10ms/step - loss: 3.8753 - accuracy: 0.0175\n",
      "Epoch 12/50\n",
      "204/204 [==============================] - 2s 10ms/step - loss: 3.8744 - accuracy: 0.0224\n",
      "Epoch 13/50\n",
      "204/204 [==============================] - 2s 10ms/step - loss: 3.8740 - accuracy: 0.0186\n",
      "Epoch 14/50\n",
      "204/204 [==============================] - 2s 10ms/step - loss: 3.8742 - accuracy: 0.0240\n",
      "Epoch 15/50\n",
      "204/204 [==============================] - 2s 10ms/step - loss: 3.8749 - accuracy: 0.0191\n",
      "Epoch 16/50\n",
      "204/204 [==============================] - 2s 10ms/step - loss: 3.8748 - accuracy: 0.0180\n",
      "Epoch 17/50\n",
      "204/204 [==============================] - 2s 10ms/step - loss: 3.8746 - accuracy: 0.0164\n",
      "Epoch 18/50\n",
      "204/204 [==============================] - 2s 10ms/step - loss: 3.8748 - accuracy: 0.0188\n",
      "Epoch 19/50\n",
      "204/204 [==============================] - 2s 10ms/step - loss: 3.8746 - accuracy: 0.0185\n",
      "Epoch 20/50\n",
      "204/204 [==============================] - 2s 10ms/step - loss: 3.8746 - accuracy: 0.0167\n",
      "Epoch 21/50\n",
      "204/204 [==============================] - 2s 10ms/step - loss: 3.8750 - accuracy: 0.0146\n",
      "Epoch 22/50\n",
      "204/204 [==============================] - 2s 10ms/step - loss: 3.8742 - accuracy: 0.0252\n",
      "Epoch 23/50\n",
      "204/204 [==============================] - 2s 10ms/step - loss: 3.8748 - accuracy: 0.0179\n",
      "Epoch 24/50\n",
      "204/204 [==============================] - 2s 10ms/step - loss: 3.8747 - accuracy: 0.0214\n",
      "Epoch 25/50\n",
      "204/204 [==============================] - 2s 10ms/step - loss: 3.8739 - accuracy: 0.0254\n",
      "Epoch 26/50\n",
      "204/204 [==============================] - 2s 10ms/step - loss: 3.8748 - accuracy: 0.0183\n",
      "Epoch 27/50\n",
      "204/204 [==============================] - 2s 10ms/step - loss: 3.8741 - accuracy: 0.0200\n",
      "Epoch 28/50\n",
      "204/204 [==============================] - 2s 10ms/step - loss: 3.8747 - accuracy: 0.0182\n",
      "Epoch 29/50\n",
      "204/204 [==============================] - 2s 10ms/step - loss: 3.8746 - accuracy: 0.0163\n",
      "Epoch 30/50\n",
      "204/204 [==============================] - 2s 10ms/step - loss: 3.8748 - accuracy: 0.0155\n",
      "Epoch 31/50\n",
      "204/204 [==============================] - 2s 10ms/step - loss: 3.8746 - accuracy: 0.0189\n",
      "Epoch 32/50\n",
      "204/204 [==============================] - 2s 10ms/step - loss: 3.8749 - accuracy: 0.0153\n",
      "Epoch 33/50\n",
      "204/204 [==============================] - 2s 10ms/step - loss: 3.8750 - accuracy: 0.0188\n",
      "Epoch 34/50\n",
      "204/204 [==============================] - 2s 10ms/step - loss: 3.8746 - accuracy: 0.0188\n",
      "Epoch 35/50\n",
      "204/204 [==============================] - 2s 10ms/step - loss: 3.8745 - accuracy: 0.0192\n",
      "Epoch 36/50\n",
      "204/204 [==============================] - 2s 8ms/step - loss: 3.8742 - accuracy: 0.0162\n",
      "Epoch 37/50\n",
      "204/204 [==============================] - 2s 9ms/step - loss: 3.8747 - accuracy: 0.0172\n",
      "Epoch 38/50\n",
      "204/204 [==============================] - 2s 9ms/step - loss: 3.8752 - accuracy: 0.0138\n",
      "Epoch 39/50\n",
      "204/204 [==============================] - 2s 10ms/step - loss: 3.8749 - accuracy: 0.0184\n",
      "Epoch 40/50\n",
      "204/204 [==============================] - 2s 9ms/step - loss: 3.8747 - accuracy: 0.0137\n",
      "Epoch 41/50\n",
      "204/204 [==============================] - 2s 9ms/step - loss: 3.8746 - accuracy: 0.0180\n",
      "Epoch 42/50\n",
      "204/204 [==============================] - 2s 9ms/step - loss: 3.8744 - accuracy: 0.0200\n",
      "Epoch 43/50\n",
      "204/204 [==============================] - 2s 8ms/step - loss: 3.8742 - accuracy: 0.0190\n",
      "Epoch 44/50\n",
      "204/204 [==============================] - 2s 9ms/step - loss: 3.8744 - accuracy: 0.0173\n",
      "Epoch 45/50\n",
      "204/204 [==============================] - 2s 10ms/step - loss: 3.8747 - accuracy: 0.0206\n",
      "Epoch 46/50\n",
      "204/204 [==============================] - 2s 10ms/step - loss: 3.8741 - accuracy: 0.0174\n",
      "Epoch 47/50\n",
      "204/204 [==============================] - 2s 10ms/step - loss: 3.8734 - accuracy: 0.0190\n",
      "Epoch 48/50\n",
      "204/204 [==============================] - 2s 10ms/step - loss: 3.8734 - accuracy: 0.0209\n",
      "Epoch 49/50\n",
      "204/204 [==============================] - 2s 10ms/step - loss: 3.8741 - accuracy: 0.0204\n",
      "Epoch 50/50\n",
      "204/204 [==============================] - 2s 10ms/step - loss: 3.8745 - accuracy: 0.0188\n"
     ]
    },
    {
     "data": {
      "text/plain": [
       "<keras.callbacks.History at 0x22dc0400520>"
      ]
     },
     "execution_count": 33,
     "metadata": {},
     "output_type": "execute_result"
    }
   ],
   "source": [
    "model.fit(X_train_set, y_train_cat, epochs=50)"
   ]
  },
  {
   "cell_type": "code",
   "execution_count": 44,
   "id": "20805092",
   "metadata": {},
   "outputs": [],
   "source": [
    "predict = model.predict(X_test_set)"
   ]
  },
  {
   "cell_type": "code",
   "execution_count": 45,
   "id": "28794f23",
   "metadata": {},
   "outputs": [
    {
     "data": {
      "text/plain": [
       "array([[0.02192817, 0.01942171, 0.02111064, ..., 0.0197516 , 0.02168238,\n",
       "        0.02228777],\n",
       "       [0.02192817, 0.01942171, 0.02111064, ..., 0.0197516 , 0.02168238,\n",
       "        0.02228777],\n",
       "       [0.02192817, 0.01942171, 0.02111064, ..., 0.0197516 , 0.02168238,\n",
       "        0.02228777],\n",
       "       ...,\n",
       "       [0.02192817, 0.01942171, 0.02111064, ..., 0.0197516 , 0.02168238,\n",
       "        0.02228777],\n",
       "       [0.02192817, 0.01942171, 0.02111064, ..., 0.0197516 , 0.02168238,\n",
       "        0.02228777],\n",
       "       [0.02192817, 0.01942171, 0.02111064, ..., 0.0197516 , 0.02168238,\n",
       "        0.02228777]], dtype=float32)"
      ]
     },
     "execution_count": 45,
     "metadata": {},
     "output_type": "execute_result"
    }
   ],
   "source": [
    "predict"
   ]
  },
  {
   "cell_type": "code",
   "execution_count": 47,
   "id": "10691aee",
   "metadata": {},
   "outputs": [],
   "source": [
    "pre1 = X_test_set[0]"
   ]
  },
  {
   "cell_type": "code",
   "execution_count": 48,
   "id": "80b41000",
   "metadata": {},
   "outputs": [
    {
     "data": {
      "text/plain": [
       "array([255., 255., 255., ..., 255., 255., 255.], dtype=float32)"
      ]
     },
     "execution_count": 48,
     "metadata": {},
     "output_type": "execute_result"
    }
   ],
   "source": [
    "pre1"
   ]
  },
  {
   "cell_type": "code",
   "execution_count": 55,
   "id": "80a2d3fc",
   "metadata": {},
   "outputs": [],
   "source": [
    "pre1 = np.reshape(pre1, (1,2352))"
   ]
  },
  {
   "cell_type": "code",
   "execution_count": 56,
   "id": "9a31b7a7",
   "metadata": {},
   "outputs": [
    {
     "data": {
      "text/plain": [
       "(1, 2352)"
      ]
     },
     "execution_count": 56,
     "metadata": {},
     "output_type": "execute_result"
    }
   ],
   "source": [
    "pre1.shape"
   ]
  },
  {
   "cell_type": "code",
   "execution_count": 57,
   "id": "4ceca0d5",
   "metadata": {},
   "outputs": [
    {
     "data": {
      "text/plain": [
       "array([[0.02192817, 0.01942171, 0.02111064, 0.02018522, 0.02218046,\n",
       "        0.02148763, 0.01995365, 0.01991918, 0.02107402, 0.02028578,\n",
       "        0.01951303, 0.02246693, 0.02051331, 0.02111322, 0.02028001,\n",
       "        0.02080146, 0.02135814, 0.02220554, 0.01983043, 0.02094094,\n",
       "        0.01871409, 0.02047347, 0.0214787 , 0.02082739, 0.02207407,\n",
       "        0.02168268, 0.02133414, 0.02068727, 0.01969673, 0.0201022 ,\n",
       "        0.02049827, 0.02126986, 0.02110864, 0.02051361, 0.02081074,\n",
       "        0.02098241, 0.02130338, 0.01983411, 0.02003555, 0.02042337,\n",
       "        0.0214075 , 0.02043148, 0.0220206 , 0.02095774, 0.02104084,\n",
       "        0.0197516 , 0.02168238, 0.02228777]], dtype=float32)"
      ]
     },
     "execution_count": 57,
     "metadata": {},
     "output_type": "execute_result"
    }
   ],
   "source": [
    "model.predict(pre1)"
   ]
  },
  {
   "cell_type": "code",
   "execution_count": 58,
   "id": "9f387a52",
   "metadata": {},
   "outputs": [
    {
     "data": {
      "text/html": [
       "<div>\n",
       "<style scoped>\n",
       "    .dataframe tbody tr th:only-of-type {\n",
       "        vertical-align: middle;\n",
       "    }\n",
       "\n",
       "    .dataframe tbody tr th {\n",
       "        vertical-align: top;\n",
       "    }\n",
       "\n",
       "    .dataframe thead th {\n",
       "        text-align: right;\n",
       "    }\n",
       "</style>\n",
       "<table border=\"1\" class=\"dataframe\">\n",
       "  <thead>\n",
       "    <tr style=\"text-align: right;\">\n",
       "      <th></th>\n",
       "      <th>1</th>\n",
       "      <th>10</th>\n",
       "      <th>11</th>\n",
       "      <th>12</th>\n",
       "      <th>13</th>\n",
       "      <th>14</th>\n",
       "      <th>15</th>\n",
       "      <th>16</th>\n",
       "      <th>17</th>\n",
       "      <th>18</th>\n",
       "      <th>...</th>\n",
       "      <th>44</th>\n",
       "      <th>45</th>\n",
       "      <th>46</th>\n",
       "      <th>47</th>\n",
       "      <th>48</th>\n",
       "      <th>5</th>\n",
       "      <th>6</th>\n",
       "      <th>7</th>\n",
       "      <th>8</th>\n",
       "      <th>9</th>\n",
       "    </tr>\n",
       "  </thead>\n",
       "  <tbody>\n",
       "    <tr>\n",
       "      <th>0</th>\n",
       "      <td>1</td>\n",
       "      <td>0</td>\n",
       "      <td>0</td>\n",
       "      <td>0</td>\n",
       "      <td>0</td>\n",
       "      <td>0</td>\n",
       "      <td>0</td>\n",
       "      <td>0</td>\n",
       "      <td>0</td>\n",
       "      <td>0</td>\n",
       "      <td>...</td>\n",
       "      <td>0</td>\n",
       "      <td>0</td>\n",
       "      <td>0</td>\n",
       "      <td>0</td>\n",
       "      <td>0</td>\n",
       "      <td>0</td>\n",
       "      <td>0</td>\n",
       "      <td>0</td>\n",
       "      <td>0</td>\n",
       "      <td>0</td>\n",
       "    </tr>\n",
       "    <tr>\n",
       "      <th>1</th>\n",
       "      <td>1</td>\n",
       "      <td>0</td>\n",
       "      <td>0</td>\n",
       "      <td>0</td>\n",
       "      <td>0</td>\n",
       "      <td>0</td>\n",
       "      <td>0</td>\n",
       "      <td>0</td>\n",
       "      <td>0</td>\n",
       "      <td>0</td>\n",
       "      <td>...</td>\n",
       "      <td>0</td>\n",
       "      <td>0</td>\n",
       "      <td>0</td>\n",
       "      <td>0</td>\n",
       "      <td>0</td>\n",
       "      <td>0</td>\n",
       "      <td>0</td>\n",
       "      <td>0</td>\n",
       "      <td>0</td>\n",
       "      <td>0</td>\n",
       "    </tr>\n",
       "    <tr>\n",
       "      <th>2</th>\n",
       "      <td>1</td>\n",
       "      <td>0</td>\n",
       "      <td>0</td>\n",
       "      <td>0</td>\n",
       "      <td>0</td>\n",
       "      <td>0</td>\n",
       "      <td>0</td>\n",
       "      <td>0</td>\n",
       "      <td>0</td>\n",
       "      <td>0</td>\n",
       "      <td>...</td>\n",
       "      <td>0</td>\n",
       "      <td>0</td>\n",
       "      <td>0</td>\n",
       "      <td>0</td>\n",
       "      <td>0</td>\n",
       "      <td>0</td>\n",
       "      <td>0</td>\n",
       "      <td>0</td>\n",
       "      <td>0</td>\n",
       "      <td>0</td>\n",
       "    </tr>\n",
       "    <tr>\n",
       "      <th>3</th>\n",
       "      <td>1</td>\n",
       "      <td>0</td>\n",
       "      <td>0</td>\n",
       "      <td>0</td>\n",
       "      <td>0</td>\n",
       "      <td>0</td>\n",
       "      <td>0</td>\n",
       "      <td>0</td>\n",
       "      <td>0</td>\n",
       "      <td>0</td>\n",
       "      <td>...</td>\n",
       "      <td>0</td>\n",
       "      <td>0</td>\n",
       "      <td>0</td>\n",
       "      <td>0</td>\n",
       "      <td>0</td>\n",
       "      <td>0</td>\n",
       "      <td>0</td>\n",
       "      <td>0</td>\n",
       "      <td>0</td>\n",
       "      <td>0</td>\n",
       "    </tr>\n",
       "    <tr>\n",
       "      <th>4</th>\n",
       "      <td>1</td>\n",
       "      <td>0</td>\n",
       "      <td>0</td>\n",
       "      <td>0</td>\n",
       "      <td>0</td>\n",
       "      <td>0</td>\n",
       "      <td>0</td>\n",
       "      <td>0</td>\n",
       "      <td>0</td>\n",
       "      <td>0</td>\n",
       "      <td>...</td>\n",
       "      <td>0</td>\n",
       "      <td>0</td>\n",
       "      <td>0</td>\n",
       "      <td>0</td>\n",
       "      <td>0</td>\n",
       "      <td>0</td>\n",
       "      <td>0</td>\n",
       "      <td>0</td>\n",
       "      <td>0</td>\n",
       "      <td>0</td>\n",
       "    </tr>\n",
       "    <tr>\n",
       "      <th>...</th>\n",
       "      <td>...</td>\n",
       "      <td>...</td>\n",
       "      <td>...</td>\n",
       "      <td>...</td>\n",
       "      <td>...</td>\n",
       "      <td>...</td>\n",
       "      <td>...</td>\n",
       "      <td>...</td>\n",
       "      <td>...</td>\n",
       "      <td>...</td>\n",
       "      <td>...</td>\n",
       "      <td>...</td>\n",
       "      <td>...</td>\n",
       "      <td>...</td>\n",
       "      <td>...</td>\n",
       "      <td>...</td>\n",
       "      <td>...</td>\n",
       "      <td>...</td>\n",
       "      <td>...</td>\n",
       "      <td>...</td>\n",
       "      <td>...</td>\n",
       "    </tr>\n",
       "    <tr>\n",
       "      <th>6523</th>\n",
       "      <td>0</td>\n",
       "      <td>0</td>\n",
       "      <td>0</td>\n",
       "      <td>0</td>\n",
       "      <td>0</td>\n",
       "      <td>0</td>\n",
       "      <td>0</td>\n",
       "      <td>0</td>\n",
       "      <td>0</td>\n",
       "      <td>0</td>\n",
       "      <td>...</td>\n",
       "      <td>0</td>\n",
       "      <td>0</td>\n",
       "      <td>0</td>\n",
       "      <td>0</td>\n",
       "      <td>0</td>\n",
       "      <td>0</td>\n",
       "      <td>0</td>\n",
       "      <td>0</td>\n",
       "      <td>0</td>\n",
       "      <td>1</td>\n",
       "    </tr>\n",
       "    <tr>\n",
       "      <th>6524</th>\n",
       "      <td>0</td>\n",
       "      <td>0</td>\n",
       "      <td>0</td>\n",
       "      <td>0</td>\n",
       "      <td>0</td>\n",
       "      <td>0</td>\n",
       "      <td>0</td>\n",
       "      <td>0</td>\n",
       "      <td>0</td>\n",
       "      <td>0</td>\n",
       "      <td>...</td>\n",
       "      <td>0</td>\n",
       "      <td>0</td>\n",
       "      <td>0</td>\n",
       "      <td>0</td>\n",
       "      <td>0</td>\n",
       "      <td>0</td>\n",
       "      <td>0</td>\n",
       "      <td>0</td>\n",
       "      <td>0</td>\n",
       "      <td>1</td>\n",
       "    </tr>\n",
       "    <tr>\n",
       "      <th>6525</th>\n",
       "      <td>0</td>\n",
       "      <td>0</td>\n",
       "      <td>0</td>\n",
       "      <td>0</td>\n",
       "      <td>0</td>\n",
       "      <td>0</td>\n",
       "      <td>0</td>\n",
       "      <td>0</td>\n",
       "      <td>0</td>\n",
       "      <td>0</td>\n",
       "      <td>...</td>\n",
       "      <td>0</td>\n",
       "      <td>0</td>\n",
       "      <td>0</td>\n",
       "      <td>0</td>\n",
       "      <td>0</td>\n",
       "      <td>0</td>\n",
       "      <td>0</td>\n",
       "      <td>0</td>\n",
       "      <td>0</td>\n",
       "      <td>1</td>\n",
       "    </tr>\n",
       "    <tr>\n",
       "      <th>6526</th>\n",
       "      <td>0</td>\n",
       "      <td>0</td>\n",
       "      <td>0</td>\n",
       "      <td>0</td>\n",
       "      <td>0</td>\n",
       "      <td>0</td>\n",
       "      <td>0</td>\n",
       "      <td>0</td>\n",
       "      <td>0</td>\n",
       "      <td>0</td>\n",
       "      <td>...</td>\n",
       "      <td>0</td>\n",
       "      <td>0</td>\n",
       "      <td>0</td>\n",
       "      <td>0</td>\n",
       "      <td>0</td>\n",
       "      <td>0</td>\n",
       "      <td>0</td>\n",
       "      <td>0</td>\n",
       "      <td>0</td>\n",
       "      <td>1</td>\n",
       "    </tr>\n",
       "    <tr>\n",
       "      <th>6527</th>\n",
       "      <td>0</td>\n",
       "      <td>0</td>\n",
       "      <td>0</td>\n",
       "      <td>0</td>\n",
       "      <td>0</td>\n",
       "      <td>0</td>\n",
       "      <td>0</td>\n",
       "      <td>0</td>\n",
       "      <td>0</td>\n",
       "      <td>0</td>\n",
       "      <td>...</td>\n",
       "      <td>0</td>\n",
       "      <td>0</td>\n",
       "      <td>0</td>\n",
       "      <td>0</td>\n",
       "      <td>0</td>\n",
       "      <td>0</td>\n",
       "      <td>0</td>\n",
       "      <td>0</td>\n",
       "      <td>0</td>\n",
       "      <td>1</td>\n",
       "    </tr>\n",
       "  </tbody>\n",
       "</table>\n",
       "<p>6528 rows × 48 columns</p>\n",
       "</div>"
      ],
      "text/plain": [
       "      1  10  11  12  13  14  15  16  17  18  ...  44  45  46  47  48  5  6  7  \\\n",
       "0     1   0   0   0   0   0   0   0   0   0  ...   0   0   0   0   0  0  0  0   \n",
       "1     1   0   0   0   0   0   0   0   0   0  ...   0   0   0   0   0  0  0  0   \n",
       "2     1   0   0   0   0   0   0   0   0   0  ...   0   0   0   0   0  0  0  0   \n",
       "3     1   0   0   0   0   0   0   0   0   0  ...   0   0   0   0   0  0  0  0   \n",
       "4     1   0   0   0   0   0   0   0   0   0  ...   0   0   0   0   0  0  0  0   \n",
       "...  ..  ..  ..  ..  ..  ..  ..  ..  ..  ..  ...  ..  ..  ..  ..  .. .. .. ..   \n",
       "6523  0   0   0   0   0   0   0   0   0   0  ...   0   0   0   0   0  0  0  0   \n",
       "6524  0   0   0   0   0   0   0   0   0   0  ...   0   0   0   0   0  0  0  0   \n",
       "6525  0   0   0   0   0   0   0   0   0   0  ...   0   0   0   0   0  0  0  0   \n",
       "6526  0   0   0   0   0   0   0   0   0   0  ...   0   0   0   0   0  0  0  0   \n",
       "6527  0   0   0   0   0   0   0   0   0   0  ...   0   0   0   0   0  0  0  0   \n",
       "\n",
       "      8  9  \n",
       "0     0  0  \n",
       "1     0  0  \n",
       "2     0  0  \n",
       "3     0  0  \n",
       "4     0  0  \n",
       "...  .. ..  \n",
       "6523  0  1  \n",
       "6524  0  1  \n",
       "6525  0  1  \n",
       "6526  0  1  \n",
       "6527  0  1  \n",
       "\n",
       "[6528 rows x 48 columns]"
      ]
     },
     "execution_count": 58,
     "metadata": {},
     "output_type": "execute_result"
    }
   ],
   "source": [
    "y_train_cat"
   ]
  },
  {
   "cell_type": "code",
   "execution_count": 59,
   "id": "8d269027",
   "metadata": {},
   "outputs": [],
   "source": [
    "pre2 =  X_test_set[250]"
   ]
  },
  {
   "cell_type": "code",
   "execution_count": 60,
   "id": "f9088706",
   "metadata": {},
   "outputs": [
    {
     "data": {
      "text/plain": [
       "array([230., 230., 230., ..., 252., 252., 252.], dtype=float32)"
      ]
     },
     "execution_count": 60,
     "metadata": {},
     "output_type": "execute_result"
    }
   ],
   "source": [
    "pre2"
   ]
  },
  {
   "cell_type": "code",
   "execution_count": 62,
   "id": "32e1faff",
   "metadata": {},
   "outputs": [],
   "source": [
    "pre2 = np.reshape(pre1, (1,2352))"
   ]
  },
  {
   "cell_type": "code",
   "execution_count": 63,
   "id": "94e83b1f",
   "metadata": {},
   "outputs": [
    {
     "data": {
      "text/plain": [
       "(1, 2352)"
      ]
     },
     "execution_count": 63,
     "metadata": {},
     "output_type": "execute_result"
    }
   ],
   "source": [
    "pre2.shape"
   ]
  },
  {
   "cell_type": "code",
   "execution_count": 64,
   "id": "416d0338",
   "metadata": {},
   "outputs": [
    {
     "data": {
      "text/plain": [
       "array([[0.02192817, 0.01942171, 0.02111064, 0.02018522, 0.02218046,\n",
       "        0.02148763, 0.01995365, 0.01991918, 0.02107402, 0.02028578,\n",
       "        0.01951303, 0.02246693, 0.02051331, 0.02111322, 0.02028001,\n",
       "        0.02080146, 0.02135814, 0.02220554, 0.01983043, 0.02094094,\n",
       "        0.01871409, 0.02047347, 0.0214787 , 0.02082739, 0.02207407,\n",
       "        0.02168268, 0.02133414, 0.02068727, 0.01969673, 0.0201022 ,\n",
       "        0.02049827, 0.02126986, 0.02110864, 0.02051361, 0.02081074,\n",
       "        0.02098241, 0.02130338, 0.01983411, 0.02003555, 0.02042337,\n",
       "        0.0214075 , 0.02043148, 0.0220206 , 0.02095774, 0.02104084,\n",
       "        0.0197516 , 0.02168238, 0.02228777]], dtype=float32)"
      ]
     },
     "execution_count": 64,
     "metadata": {},
     "output_type": "execute_result"
    }
   ],
   "source": [
    "model.predict(pre2)"
   ]
  },
  {
   "cell_type": "code",
   "execution_count": null,
   "id": "d871e564",
   "metadata": {},
   "outputs": [],
   "source": []
  },
  {
   "cell_type": "code",
   "execution_count": null,
   "id": "0b1ac3d9",
   "metadata": {},
   "outputs": [],
   "source": []
  }
 ],
 "metadata": {
  "kernelspec": {
   "display_name": "Python 3 (ipykernel)",
   "language": "python",
   "name": "python3"
  },
  "language_info": {
   "codemirror_mode": {
    "name": "ipython",
    "version": 3
   },
   "file_extension": ".py",
   "mimetype": "text/x-python",
   "name": "python",
   "nbconvert_exporter": "python",
   "pygments_lexer": "ipython3",
   "version": "3.10.12"
  }
 },
 "nbformat": 4,
 "nbformat_minor": 5
}
